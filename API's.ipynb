{
 "cells": [
  {
   "cell_type": "code",
   "execution_count": 5,
   "id": "49538c96",
   "metadata": {},
   "outputs": [
    {
     "name": "stdout",
     "output_type": "stream",
     "text": [
      "What's the best thing about elevator jokes?\n",
      "They work on so many levels.\n"
     ]
    }
   ],
   "source": [
    "import requests\n",
    "def get_random_joke():\n",
    "    url = \"https://official-joke-api.appspot.com/random_joke\"\n",
    "    response = requests.get(url)\n",
    "    if response.status_code == 200:\n",
    "        joke = response.json()\n",
    "        print(f\"{joke['setup']}\")\n",
    "        print(f\"{joke['punchline']}\")\n",
    "    else:\n",
    "        print(\"Failed to retrieve joke.\")\n",
    "if __name__ == \"__main__\":\n",
    "    get_random_joke()"
   ]
  },
  {
   "cell_type": "code",
   "execution_count": 8,
   "id": "dd4e77af",
   "metadata": {},
   "outputs": [
    {
     "name": "stdout",
     "output_type": "stream",
     "text": [
      "Weather in New York: Clear +26°C ↙4km/h\n",
      "Weather in Lahore: Smoke +33°C ↑9km/h\n",
      "Weather in Gaza: Sunny +18°C ←8km/h\n",
      "Weather in Gujrat: Partly cloudy +38°C ←11km/h\n"
     ]
    }
   ],
   "source": [
    "import requests\n",
    "def get_weather(city):\n",
    "    api_key = \"https://wttr.in/\"\n",
    "    url = f\"{api_key}{city}?format=%C+%t+%w\"\n",
    "    response = requests.get(url)\n",
    "    if response.status_code == 200:\n",
    "        print(f\"Weather in {city}: {response.text}\")\n",
    "    else:\n",
    "        print(\"Could not retrieve weather data.\")\n",
    "get_weather(\"New York\")\n",
    "get_weather(\"Lahore\")\n",
    "get_weather(\"Gaza\")\n",
    "get_weather(\"Gujrat\")"
   ]
  },
  {
   "cell_type": "code",
   "execution_count": 32,
   "id": "f741ec81",
   "metadata": {},
   "outputs": [
    {
     "name": "stdout",
     "output_type": "stream",
     "text": [
      "😂 Random Meme Caption 😂\n",
      "me_irl\n"
     ]
    }
   ],
   "source": [
    "import requests\n",
    "def get_meme_caption():\n",
    "    url = \"https://meme-api.com/gimme\"\n",
    "    response = requests.get(url)\n",
    "    if response.status_code == 200:\n",
    "        data = response.json()\n",
    "        caption = data['title']\n",
    "        print(\"😂 Random Meme Caption 😂\")\n",
    "        print(caption)\n",
    "    else:\n",
    "        print(\"Failed to fetch meme.\")\n",
    "get_meme_caption() "
   ]
  },
  {
   "cell_type": "code",
   "execution_count": 43,
   "id": "1ded836f",
   "metadata": {},
   "outputs": [
    {
     "name": "stdout",
     "output_type": "stream",
     "text": [
      "One quarter of the bones in your body are in your feet.\n"
     ]
    }
   ],
   "source": [
    "import requests\n",
    "def random_fact():\n",
    "    url = \"https://uselessfacts.jsph.pl/random.json?language=en\"\n",
    "    response = requests.get(url)\n",
    "    fact = response.json().get(\"text\")\n",
    "    print(fact)\n",
    "random_fact()\n"
   ]
  },
  {
   "cell_type": "code",
   "execution_count": 46,
   "id": "41b38314",
   "metadata": {},
   "outputs": [
    {
     "name": "stdout",
     "output_type": "stream",
     "text": [
      "🪄 Spell: Morsmordre\n",
      "✨ Effect: Conjures and projects Lord Voldemort's Dark Mark\n"
     ]
    }
   ],
   "source": [
    "import requests\n",
    "\n",
    "def random_spell():\n",
    "    url = \"https://hp-api.onrender.com/api/spells\"\n",
    "    response = requests.get(url)\n",
    "    spells = response.json()\n",
    "    import random\n",
    "    spell = random.choice(spells)\n",
    "    print(f\"🪄 Spell: {spell['name']}\\n✨ Effect: {spell['description']}\")\n",
    "\n",
    "random_spell()\n"
   ]
  },
  {
   "cell_type": "code",
   "execution_count": null,
   "id": "07cb7a2e",
   "metadata": {},
   "outputs": [],
   "source": []
  }
 ],
 "metadata": {
  "kernelspec": {
   "display_name": "python12",
   "language": "python",
   "name": "python3"
  },
  "language_info": {
   "codemirror_mode": {
    "name": "ipython",
    "version": 3
   },
   "file_extension": ".py",
   "mimetype": "text/x-python",
   "name": "python",
   "nbconvert_exporter": "python",
   "pygments_lexer": "ipython3",
   "version": "3.12.0"
  }
 },
 "nbformat": 4,
 "nbformat_minor": 5
}
